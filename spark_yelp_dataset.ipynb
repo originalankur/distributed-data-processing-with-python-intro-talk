{
 "cells": [
  {
   "cell_type": "code",
   "execution_count": null,
   "id": "cae45e9c-bb9b-4325-9ee5-08271914fc1e",
   "metadata": {},
   "outputs": [],
   "source": [
    "from pyspark.sql import SparkSession\n",
    "from pyspark.sql.functions import desc\n",
    "\n",
    "spark = SparkSession.builder.getOrCreate()"
   ]
  },
  {
   "cell_type": "code",
   "execution_count": null,
   "id": "747f56f4-e19f-484f-a54f-9454c007ea7e",
   "metadata": {},
   "outputs": [],
   "source": [
    "df = spark.read.json(\"yelp_academic_dataset_business.json\")"
   ]
  },
  {
   "cell_type": "code",
   "execution_count": null,
   "id": "52cc63a5-c1a9-400d-9a40-ac965bab8c4f",
   "metadata": {},
   "outputs": [],
   "source": [
    "df.count()"
   ]
  },
  {
   "cell_type": "code",
   "execution_count": null,
   "id": "67886a6e-3d8c-4b91-bf77-79c1d7c3d096",
   "metadata": {},
   "outputs": [],
   "source": [
    "df.printSchema()"
   ]
  },
  {
   "cell_type": "code",
   "execution_count": null,
   "id": "6595f46f-4032-405b-8e0d-1eee1c18bf2c",
   "metadata": {
    "tags": []
   },
   "outputs": [],
   "source": [
    "df.groupby('city').count().sort(desc(\"count\")).show()"
   ]
  },
  {
   "cell_type": "code",
   "execution_count": null,
   "id": "29ef0a89-8fbd-423b-9645-4338ddc58e33",
   "metadata": {},
   "outputs": [],
   "source": [
    "# We want to go to a place where kids are allowed, doesn't have Outdoor Seating , DietaryRestrictions ( gluten free diet) and vegetarian, \n",
    "# should be open on a saturday night, above 4 stars\n",
    "df.filter(df.attributes.GoodForKids.contains('True')).filter(df.is_open == 1).filter(df.categories.contains('Vegetarian')).filter(df.attributes.OutdoorSeating.contains('False')).filter(df.stars >= 4.0).filter(df.city.contains('Vancouver')).filter(df.attributes.DietaryRestrictions.contains('gluten-free')).show(vertical=True)"
   ]
  },
  {
   "cell_type": "code",
   "execution_count": null,
   "id": "597394a1-dfb2-4a81-a8a5-9135e30ab70e",
   "metadata": {},
   "outputs": [],
   "source": [
    "spark.sql(\"CREATE OR REPLACE TEMPORARY VIEW yelp_academic_dataset_business USING json OPTIONS\" + \n",
    "      \" (path 'yelp_academic_dataset_business.json')\")\n",
    "spark.sql(\"select city, count(*) as no_of_resturants from yelp_academic_dataset_business group by city order by no_of_resturants desc\").show()"
   ]
  },
  {
   "cell_type": "code",
   "execution_count": null,
   "id": "550cf26a-40b7-4d29-bb73-5aabb8bd8d12",
   "metadata": {},
   "outputs": [],
   "source": [
    "spark.sql(\"select * from yelp_academic_dataset_business where city = 'Vancouver' and attributes.GoodForKids = 'True' and is_open=1 and categories RLIKE 'Vegetarian' and attributes.DietaryRestrictions RLIKE 'gluten-free' and stars >= 4.0 and attributes.OutdoorSeating = 'False'\").show(vertical=True)"
   ]
  }
 ],
 "metadata": {
  "kernelspec": {
   "display_name": "Python 3 (ipykernel)",
   "language": "python",
   "name": "python3"
  },
  "language_info": {
   "codemirror_mode": {
    "name": "ipython",
    "version": 3
   },
   "file_extension": ".py",
   "mimetype": "text/x-python",
   "name": "python",
   "nbconvert_exporter": "python",
   "pygments_lexer": "ipython3",
   "version": "3.9.7"
  }
 },
 "nbformat": 4,
 "nbformat_minor": 5
}
